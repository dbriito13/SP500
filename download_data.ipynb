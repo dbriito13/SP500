{
 "cells": [
  {
   "attachments": {},
   "cell_type": "markdown",
   "metadata": {},
   "source": [
    "# <h1 style=\"text-align:center;\"> Introduction </h1>\n",
    "The purpose of this notebook is to download and condense data from different sources into a single Dataframe, saving it to a csv file, to later use when building our predictive models."
   ]
  },
  {
   "attachments": {},
   "cell_type": "markdown",
   "metadata": {},
   "source": [
    "# <h1 style=\"text-align:center;\"> Imports </h1>"
   ]
  },
  {
   "cell_type": "code",
   "execution_count": 1,
   "metadata": {},
   "outputs": [],
   "source": [
    "import pandas as pd\n",
    "import requests\n",
    "import re\n",
    "import json\n",
    "import matplotlib as plt\n",
    "from tqdm import tqdm\n",
    "import sys\n",
    "import io\n",
    "import numpy as np"
   ]
  },
  {
   "attachments": {},
   "cell_type": "markdown",
   "metadata": {},
   "source": [
    "# <h1 style=\"text-align:center;\"> Downloading S&P500 stock tickers </h1>"
   ]
  },
  {
   "attachments": {},
   "cell_type": "markdown",
   "metadata": {},
   "source": [
    "Due to this procedure relying on Wikipedia as a source, we will store the result in a csv file, that way, if the layout of the page changes we can still use the data."
   ]
  },
  {
   "cell_type": "code",
   "execution_count": 2,
   "metadata": {},
   "outputs": [],
   "source": [
    "def get_sp500_stocks():\n",
    "  stocks=pd.read_html('https://en.wikipedia.org/wiki/List_of_S%26P_500_companies')[0]['Symbol'].tolist()\n",
    "  res = []\n",
    "  for stock in stocks:\n",
    "    res.append(stock)\n",
    "  return res"
   ]
  },
  {
   "cell_type": "code",
   "execution_count": 3,
   "metadata": {},
   "outputs": [
    {
     "name": "stdout",
     "output_type": "stream",
     "text": [
      "['MMM', 'AOS', 'ABT', 'ABBV', 'ACN', 'ATVI', 'ADM', 'ADBE', 'ADP', 'AAP', 'AES', 'AFL', 'A', 'APD', 'AKAM', 'ALK', 'ALB', 'ARE', 'ALGN', 'ALLE', 'LNT', 'ALL', 'GOOGL', 'GOOG', 'MO', 'AMZN', 'AMCR', 'AMD', 'AEE', 'AAL', 'AEP', 'AXP', 'AIG', 'AMT', 'AWK', 'AMP', 'ABC', 'AME', 'AMGN', 'APH', 'ADI', 'ANSS', 'AON', 'APA', 'AAPL', 'AMAT', 'APTV', 'ACGL', 'ANET', 'AJG', 'AIZ', 'T', 'ATO', 'ADSK', 'AZO', 'AVB', 'AVY', 'AXON', 'BKR', 'BALL', 'BAC', 'BBWI', 'BAX', 'BDX', 'WRB', 'BRK.B', 'BBY', 'BIO', 'TECH', 'BIIB', 'BLK', 'BK', 'BA', 'BKNG', 'BWA', 'BXP', 'BSX', 'BMY', 'AVGO', 'BR', 'BRO', 'BF.B', 'BG', 'CHRW', 'CDNS', 'CZR', 'CPT', 'CPB', 'COF', 'CAH', 'KMX', 'CCL', 'CARR', 'CTLT', 'CAT', 'CBOE', 'CBRE', 'CDW', 'CE', 'CNC', 'CNP', 'CDAY', 'CF', 'CRL', 'SCHW', 'CHTR', 'CVX', 'CMG', 'CB', 'CHD', 'CI', 'CINF', 'CTAS', 'CSCO', 'C', 'CFG', 'CLX', 'CME', 'CMS', 'KO', 'CTSH', 'CL', 'CMCSA', 'CMA', 'CAG', 'COP', 'ED', 'STZ', 'CEG', 'COO', 'CPRT', 'GLW', 'CTVA', 'CSGP', 'COST', 'CTRA', 'CCI', 'CSX', 'CMI', 'CVS', 'DHI', 'DHR', 'DRI', 'DVA', 'DE', 'DAL', 'XRAY', 'DVN', 'DXCM', 'FANG', 'DLR', 'DFS', 'DISH', 'DIS', 'DG', 'DLTR', 'D', 'DPZ', 'DOV', 'DOW', 'DTE', 'DUK', 'DD', 'DXC', 'EMN', 'ETN', 'EBAY', 'ECL', 'EIX', 'EW', 'EA', 'ELV', 'LLY', 'EMR', 'ENPH', 'ETR', 'EOG', 'EPAM', 'EQT', 'EFX', 'EQIX', 'EQR', 'ESS', 'EL', 'ETSY', 'RE', 'EVRG', 'ES', 'EXC', 'EXPE', 'EXPD', 'EXR', 'XOM', 'FFIV', 'FDS', 'FICO', 'FAST', 'FRT', 'FDX', 'FITB', 'FSLR', 'FE', 'FIS', 'FISV', 'FLT', 'FMC', 'F', 'FTNT', 'FTV', 'FOXA', 'FOX', 'BEN', 'FCX', 'GRMN', 'IT', 'GEHC', 'GEN', 'GNRC', 'GD', 'GE', 'GIS', 'GM', 'GPC', 'GILD', 'GL', 'GPN', 'GS', 'HAL', 'HIG', 'HAS', 'HCA', 'PEAK', 'HSIC', 'HSY', 'HES', 'HPE', 'HLT', 'HOLX', 'HD', 'HON', 'HRL', 'HST', 'HWM', 'HPQ', 'HUM', 'HBAN', 'HII', 'IBM', 'IEX', 'IDXX', 'ITW', 'ILMN', 'INCY', 'IR', 'PODD', 'INTC', 'ICE', 'IFF', 'IP', 'IPG', 'INTU', 'ISRG', 'IVZ', 'INVH', 'IQV', 'IRM', 'JBHT', 'JKHY', 'J', 'JNJ', 'JCI', 'JPM', 'JNPR', 'K', 'KDP', 'KEY', 'KEYS', 'KMB', 'KIM', 'KMI', 'KLAC', 'KHC', 'KR', 'LHX', 'LH', 'LRCX', 'LW', 'LVS', 'LDOS', 'LEN', 'LNC', 'LIN', 'LYV', 'LKQ', 'LMT', 'L', 'LOW', 'LYB', 'MTB', 'MRO', 'MPC', 'MKTX', 'MAR', 'MMC', 'MLM', 'MAS', 'MA', 'MTCH', 'MKC', 'MCD', 'MCK', 'MDT', 'MRK', 'META', 'MET', 'MTD', 'MGM', 'MCHP', 'MU', 'MSFT', 'MAA', 'MRNA', 'MHK', 'MOH', 'TAP', 'MDLZ', 'MPWR', 'MNST', 'MCO', 'MS', 'MOS', 'MSI', 'MSCI', 'NDAQ', 'NTAP', 'NFLX', 'NWL', 'NEM', 'NWSA', 'NWS', 'NEE', 'NKE', 'NI', 'NDSN', 'NSC', 'NTRS', 'NOC', 'NCLH', 'NRG', 'NUE', 'NVDA', 'NVR', 'NXPI', 'ORLY', 'OXY', 'ODFL', 'OMC', 'ON', 'OKE', 'ORCL', 'OGN', 'OTIS', 'PCAR', 'PKG', 'PARA', 'PH', 'PAYX', 'PAYC', 'PYPL', 'PNR', 'PEP', 'PFE', 'PCG', 'PM', 'PSX', 'PNW', 'PXD', 'PNC', 'POOL', 'PPG', 'PPL', 'PFG', 'PG', 'PGR', 'PLD', 'PRU', 'PEG', 'PTC', 'PSA', 'PHM', 'QRVO', 'PWR', 'QCOM', 'DGX', 'RL', 'RJF', 'RTX', 'O', 'REG', 'REGN', 'RF', 'RSG', 'RMD', 'RVTY', 'RHI', 'ROK', 'ROL', 'ROP', 'ROST', 'RCL', 'SPGI', 'CRM', 'SBAC', 'SLB', 'STX', 'SEE', 'SRE', 'NOW', 'SHW', 'SPG', 'SWKS', 'SJM', 'SNA', 'SEDG', 'SO', 'LUV', 'SWK', 'SBUX', 'STT', 'STLD', 'STE', 'SYK', 'SYF', 'SNPS', 'SYY', 'TMUS', 'TROW', 'TTWO', 'TPR', 'TRGP', 'TGT', 'TEL', 'TDY', 'TFX', 'TER', 'TSLA', 'TXN', 'TXT', 'TMO', 'TJX', 'TSCO', 'TT', 'TDG', 'TRV', 'TRMB', 'TFC', 'TYL', 'TSN', 'USB', 'UDR', 'ULTA', 'UNP', 'UAL', 'UPS', 'URI', 'UNH', 'UHS', 'VLO', 'VTR', 'VRSN', 'VRSK', 'VZ', 'VRTX', 'VFC', 'VTRS', 'VICI', 'V', 'VMC', 'WAB', 'WBA', 'WMT', 'WBD', 'WM', 'WAT', 'WEC', 'WFC', 'WELL', 'WST', 'WDC', 'WRK', 'WY', 'WHR', 'WMB', 'WTW', 'GWW', 'WYNN', 'XEL', 'XYL', 'YUM', 'ZBRA', 'ZBH', 'ZION', 'ZTS']\n"
     ]
    }
   ],
   "source": [
    "print(get_sp500_stocks())"
   ]
  },
  {
   "attachments": {},
   "cell_type": "markdown",
   "metadata": {},
   "source": [
    "# List of Ratios to Download"
   ]
  },
  {
   "cell_type": "code",
   "execution_count": 4,
   "metadata": {},
   "outputs": [],
   "source": [
    "#TODO: Annotate all the values, and wether they are %, absolute, TTM, also add YoY for some (like gross-profit)\n",
    "\n",
    "price_ratios = [                      #Only v3\n",
    "    'pe-ratio',\n",
    "    'price-sales',\n",
    "    'price-book',\n",
    "    'price-fcf',\n",
    "    'current-ratio',\n",
    "    'quick-ratio',\n",
    "    'debt-equity-ratio',\n",
    "    'roe',\n",
    "    'roa',\n",
    "    'return-on-tangible-equity',\n",
    "    'ebitda-margin',\n",
    "    ]\n",
    "\n",
    "balance_sheet = [                       #v1 quarterly, v2 YoY\n",
    "    'total-assets',                    \n",
    "    'total-liabilities',                \n",
    "    'total-share-holder-equity',\n",
    "    'long-term-debt',\n",
    "    'shares-outstanding'\n",
    "    ]\n",
    "\n",
    "income_statement = [                    # YoY and TTM for all of these v1: TTM, v2: Quarterly, v3: YoY\n",
    "    'eps-earnings-per-share-diluted',   #Possible YoY\n",
    "    'net-income',                       #Possible YoY\n",
    "    'ebitda',                           #Possible YoY\n",
    "    'operating-income',                 #Possible YoY\n",
    "    'gross-profit',                     #Possible YoY\n",
    "    'revenue',                          #Possible YoY\n",
    "    'shares-outstanding',               #Special case, v1: quarterly, v2: YoY\n",
    "]"
   ]
  },
  {
   "cell_type": "code",
   "execution_count": 5,
   "metadata": {},
   "outputs": [],
   "source": [
    "def fetch_special_cases(stock):\n",
    "    div_url = f\"https://www.macrotrends.net/assets/php/dividend_yield.php?t={stock}\"\n",
    "    num_emply_url = f\"https://www.macrotrends.net/assets/php/fundamental_iframe.php?t={stock}&type=number-of-employees&statement=&freq=A\"\n",
    "    profit_margins_url = f\"https://www.macrotrends.net/assets/php/fundamental_metric.php?t={stock}&chart=profit-margin\"\n",
    "   \n",
    "    #Profit Margins\n",
    "    data = []\n",
    "    html_doc = requests.get(profit_margins_url).text\n",
    "    res = re.search(r\"chartData = (\\[\\{.*?\\}\\])\", html_doc)\n",
    "    if res is None:\n",
    "        return None\n",
    "    res = res.group(1)\n",
    "    res = json.loads(res)\n",
    "    for entry in res:\n",
    "        data.append((entry['date'], stock, entry['v1'], entry['v2'], entry['v3']))\n",
    "    df = pd.DataFrame(data, columns=['Date', 'Ticker', 'ttm-gross-margin', 'ttm-operating-margin', 'ttm-net-margin'])\n",
    "\n",
    "\n",
    "    #Number of Employees\n",
    "    data = []\n",
    "    html_doc = requests.get(num_emply_url).text\n",
    "    res = re.search(r\"chartData = (\\[\\{.*?\\}\\])\", html_doc)\n",
    "    if res is None:\n",
    "        return None\n",
    "    res = res.group(1)\n",
    "    res = json.loads(res)\n",
    "    for entry in res:\n",
    "        data.append((entry['date'], stock, entry['v2']))\n",
    "    df_emply = pd.DataFrame(data, columns=['Date', 'Ticker', 'number-employees'])\n",
    "    df = pd.merge(df, df_emply, how='outer')\n",
    "    df[\"number-employees\"].ffill(inplace=True)\n",
    "    return \n",
    "\n",
    "    "
   ]
  },
  {
   "cell_type": "code",
   "execution_count": 6,
   "metadata": {},
   "outputs": [],
   "source": [
    "def fetch_ratio(ratio, stock_symbol, l_entries, section, suffixes=[],):\n",
    "  data = []\n",
    "  url = f\"https://www.macrotrends.net/assets/php/fundamental_iframe.php?t={stock_symbol}&type={ratio}&statement={section}&freq=Q\"\n",
    "  entries = ()\n",
    "  columns = ['Date', 'Ticker']\n",
    "  if len(suffixes) == 0:\n",
    "    columns.append(ratio)\n",
    "  else:\n",
    "    for suffix in suffixes:\n",
    "      columns.append(f\"{ratio}_{suffix}\")\n",
    "\n",
    "  html_doc = requests.get(url).text\n",
    "  res = re.search(r\"chartData = (\\[\\{.*?\\}\\])\", html_doc)\n",
    "  if res is None:\n",
    "    return None\n",
    "  res = res.group(1)\n",
    "  res = json.loads(res)\n",
    "  for entry in res:\n",
    "    entries = (entry['date'], stock_symbol, )\n",
    "    for v_i in l_entries:\n",
    "      entries += (entry[v_i],)\n",
    "    data.append(entries)\n",
    "\n",
    "  return pd.DataFrame(data, columns=columns)"
   ]
  },
  {
   "cell_type": "code",
   "execution_count": 7,
   "metadata": {},
   "outputs": [],
   "source": [
    "def fetch_ratios(stock_symbol):\n",
    "    df = pd.DataFrame()\n",
    "    for ratio in price_ratios:\n",
    "        df_ratio = fetch_ratio(ratio, stock_symbol, ['v3'], 'price-ratios')\n",
    "        if df_ratio is not None:\n",
    "            if df.empty:\n",
    "                df = df_ratio\n",
    "            else:\n",
    "                df = pd.merge(df, df_ratio, how='outer')\n",
    "    for ratio in balance_sheet:\n",
    "        df_ratio = fetch_ratio(ratio, stock_symbol, ['v1','v2'], 'balance-sheet', ['Q','YoY'])\n",
    "        if df_ratio is not None:\n",
    "            df = pd.merge(df, df_ratio, how='outer')\n",
    "    for ratio in income_statement:\n",
    "        if ratio == 'shares-outstanding':\n",
    "            df_ratio = fetch_ratio(ratio, stock_symbol, ['v1', 'v2'], 'income-statement', ['Q', 'YoY'])\n",
    "        else:\n",
    "            df_ratio = fetch_ratio(ratio, stock_symbol, ['v1', 'v2', 'v3'], 'income-statement', ['TTM', 'Q', 'YoY'])\n",
    "        if df_ratio is not None:\n",
    "            df = pd.merge(df, df_ratio, how='outer')\n",
    "    \n",
    "    df_spec = fetch_special_cases(stock_symbol)\n",
    "    if df_spec is not None:\n",
    "        df = pd.merge(df, df_spec, how='left')\n",
    "    return df    "
   ]
  },
  {
   "cell_type": "code",
   "execution_count": 8,
   "metadata": {},
   "outputs": [],
   "source": [
    "def fetch_yahoo(stock_symbol):\n",
    "  headers = {\n",
    "      'User-Agent': 'Mozilla/5.0'\n",
    "  }\n",
    "  url = \"https://query1.finance.yahoo.com/v7/finance/download/\"\n",
    "  url += str(stock_symbol)\n",
    "  url += \"?period1=1030060800&period2=1684368000&interval=1d&events=history&includeAdjustedClose=true\"\n",
    "  r = requests.get(url, headers=headers)\n",
    "  pds = pd.read_csv(io.StringIO(r.text), index_col=0, parse_dates=True)\n",
    "  return pds"
   ]
  },
  {
   "cell_type": "code",
   "execution_count": 103,
   "metadata": {},
   "outputs": [
    {
     "data": {
      "text/plain": [
       "'datetime64'"
      ]
     },
     "execution_count": 103,
     "metadata": {},
     "output_type": "execute_result"
    }
   ],
   "source": [
    "fetch_yahoo(\"AAPL\").index.inferred_type"
   ]
  },
  {
   "cell_type": "code",
   "execution_count": 9,
   "metadata": {},
   "outputs": [],
   "source": [
    "def fetch_dataframes(stock_symbol):\n",
    "    #Extracting dataframe with prices for the stock\n",
    "    if stock_symbol == 'BF.B':\n",
    "        df_prices = fetch_yahoo(\"BF-B\")\n",
    "    elif stock_symbol == 'BRK.B':\n",
    "        df_prices = fetch_yahoo(\"BRK-B\")\n",
    "    else:\n",
    "        df_prices = fetch_yahoo(stock_symbol)\n",
    "    df_prices.drop(['Open', 'High', 'Low', 'Close', 'Volume'], axis=1, inplace=True)\n",
    "    #Fill all dates\n",
    "    start_date = str(df_prices.index[0])\n",
    "    end_date = str(df_prices.index[-1])\n",
    "    \n",
    "    idx = pd.date_range(start_date, end_date)\n",
    "    df_prices = df_prices.reindex(idx)\n",
    "    df_prices.ffill(inplace=True)\n",
    "    df_prices.index = df_prices.index.astype(\"string\")\n",
    "\n",
    "    #Extracting dataframe with ratios and metrics for the stock\n",
    "    df_ratios = fetch_ratios(stock_symbol)\n",
    "    df_ratios.set_index('Date', inplace=True)\n",
    "    df_ratios.sort_index(inplace=True)\n",
    "    df_ratios.index.name=None\n",
    "\n",
    "    return df_prices, df_ratios"
   ]
  },
  {
   "cell_type": "code",
   "execution_count": 10,
   "metadata": {},
   "outputs": [],
   "source": [
    "def fetch_data(stock_symbol):\n",
    "    df_p, df_r = fetch_dataframes(stock_symbol)\n",
    "    df = df_r.merge(df_p, how='left', left_index=True, right_index=True)\n",
    "    #Now we create the column of the annual change\n",
    "    df['Yearly Change (%)'] = (df['Adj Close'].shift(-4) - df['Adj Close']) / (df['Adj Close']) * 100.0\n",
    "    return df"
   ]
  },
  {
   "cell_type": "code",
   "execution_count": 12,
   "metadata": {},
   "outputs": [],
   "source": [
    "def create_dataset():\n",
    "    #Fetch SP500 stock ticker list\n",
    "    list_sp500 = get_sp500_stocks()\n",
    "    df = pd.DataFrame()\n",
    "    f = open('logging.txt', 'w')\n",
    "    #sys.stdout = f # Change the standard output to the file we created.\n",
    "\n",
    "    for stock in tqdm(list_sp500):\n",
    "        df_stock = fetch_data(stock)\n",
    "        df = pd.concat([df, df_stock])\n",
    "    \n",
    "    return df.to_csv('data/sp500_quarterly_data.csv')"
   ]
  },
  {
   "cell_type": "code",
   "execution_count": 13,
   "metadata": {},
   "outputs": [
    {
     "name": "stderr",
     "output_type": "stream",
     "text": [
      "100%|██████████| 503/503 [1:18:27<00:00,  9.36s/it]\n"
     ]
    }
   ],
   "source": [
    "create_dataset()"
   ]
  },
  {
   "cell_type": "code",
   "execution_count": 178,
   "metadata": {},
   "outputs": [],
   "source": [
    "df = pd.read_csv('data/sp500_quarterly_data.csv', index_col=0)"
   ]
  },
  {
   "cell_type": "code",
   "execution_count": 19,
   "metadata": {},
   "outputs": [],
   "source": [
    "df = df[df.isnull().sum(axis=1) < 20]"
   ]
  },
  {
   "attachments": {},
   "cell_type": "markdown",
   "metadata": {},
   "source": [
    "# <h1 style=\"text-align:center;\"> Adding Macroeconomic Variables  </h1> \n",
    "The variables we added before determine the fundamental analysis of a company, from a quantitative point of view. However, macroeconomic factors cannot be ignored when assesing the health of a company and it's future returns. These have to be incorporated into the portfolio management strategy of any investor, an thus, we will do the same in our dataset. We will incorporate the following metrics:\n",
    "* **Economic growth** - There's a discussion to be had to determine what metric best encapsules economic growth, we will be using <span style=\"color:blue\">GDP at purchaser's prices</span>.\n",
    "* **Unemployment Rate**.\n",
    "* **Inflation**.\n",
    "* **Interest Rates** - For this, we will use the <span style=\"color:blue\">federal funds rates</span>.\n",
    "Many more variables could be included, and each one of them is worthy of a study on it's own, but for the meantime we will work with these metrics. They will all be taken from macrotrends.net, as we did for the ratios."
   ]
  },
  {
   "cell_type": "code",
   "execution_count": 123,
   "metadata": {},
   "outputs": [],
   "source": [
    "macros = [\n",
    "    (\"https://www.macrotrends.net/countries/USA/united-states/economic-growth-rate\", 'growth-rate', 'v3'),\n",
    "    (\"https://www.macrotrends.net/countries/USA/united-states/unemployment-rate\", 'unemployment-rate', 'v1'),\n",
    "    (\"https://www.macrotrends.net/countries/USA/united-states/inflation-rate-cpi\", 'inflation-rate', 'v1'),\n",
    "]"
   ]
  },
  {
   "cell_type": "code",
   "execution_count": 124,
   "metadata": {},
   "outputs": [
    {
     "data": {
      "text/html": [
       "<div>\n",
       "<style scoped>\n",
       "    .dataframe tbody tr th:only-of-type {\n",
       "        vertical-align: middle;\n",
       "    }\n",
       "\n",
       "    .dataframe tbody tr th {\n",
       "        vertical-align: top;\n",
       "    }\n",
       "\n",
       "    .dataframe thead th {\n",
       "        text-align: right;\n",
       "    }\n",
       "</style>\n",
       "<table border=\"1\" class=\"dataframe\">\n",
       "  <thead>\n",
       "    <tr style=\"text-align: right;\">\n",
       "      <th></th>\n",
       "      <th>Date</th>\n",
       "      <th>interest-rates</th>\n",
       "    </tr>\n",
       "  </thead>\n",
       "  <tbody>\n",
       "    <tr>\n",
       "      <th>0</th>\n",
       "      <td>1954-07-01</td>\n",
       "      <td>1.13</td>\n",
       "    </tr>\n",
       "    <tr>\n",
       "      <th>1</th>\n",
       "      <td>1954-07-02</td>\n",
       "      <td>1.25</td>\n",
       "    </tr>\n",
       "    <tr>\n",
       "      <th>2</th>\n",
       "      <td>1954-07-03</td>\n",
       "      <td>1.25</td>\n",
       "    </tr>\n",
       "    <tr>\n",
       "      <th>3</th>\n",
       "      <td>1954-07-04</td>\n",
       "      <td>1.25</td>\n",
       "    </tr>\n",
       "    <tr>\n",
       "      <th>4</th>\n",
       "      <td>1954-07-05</td>\n",
       "      <td>0.88</td>\n",
       "    </tr>\n",
       "  </tbody>\n",
       "</table>\n",
       "</div>"
      ],
      "text/plain": [
       "         Date   interest-rates\n",
       "0  1954-07-01             1.13\n",
       "1  1954-07-02             1.25\n",
       "2  1954-07-03             1.25\n",
       "3  1954-07-04             1.25\n",
       "4  1954-07-05             0.88"
      ]
     },
     "execution_count": 124,
     "metadata": {},
     "output_type": "execute_result"
    }
   ],
   "source": [
    "df_rates = pd.read_csv('data/fed-funds-rate-historical-chart.csv')\n",
    "df_rates.head(5)"
   ]
  },
  {
   "cell_type": "code",
   "execution_count": 125,
   "metadata": {},
   "outputs": [],
   "source": [
    "def fetch_macro(url, macro, num_entry):\n",
    "  html_doc = requests.get(url).text\n",
    "  res = re.search(r\"chartData = (\\[\\{.*?\\}\\])\", html_doc)\n",
    "  if res is None:\n",
    "    return None\n",
    "  res = res.group(1)\n",
    "  res = json.loads(res)\n",
    "  data = []\n",
    "  for entry in res:\n",
    "    if entry['date'] >= \"2008-01-01\":\n",
    "      data.append((entry['date'], entry[num_entry]))\n",
    "  return pd.DataFrame(data, columns=['Date', macro])"
   ]
  },
  {
   "cell_type": "code",
   "execution_count": 165,
   "metadata": {},
   "outputs": [],
   "source": [
    "def fetch_macros():\n",
    "    df = pd.DataFrame()\n",
    "    for macro in macros:\n",
    "        df_macro = fetch_macro(macro[0], macro[1], macro[2])\n",
    "        if df_macro is not None:\n",
    "            if df.empty:\n",
    "                df = df_macro\n",
    "            else:\n",
    "                df = pd.merge(df, df_macro, how='outer')\n",
    "    df.set_index('Date', inplace=True)\n",
    "    df.sort_index(inplace=True)\n",
    "    \n",
    "    df_rates = pd.read_csv('fed-funds-rate-historical-chart.csv')\n",
    "    df_rates.set_index('Date', inplace=True)\n",
    "    df_rates.sort_index(inplace=True)\n",
    "    df_rates = df_rates[df_rates.index >= \"2008-01-01\"]\n",
    "\n",
    "    df = pd.merge(df, df_rates, how='outer', left_index=True, right_index=True)\n",
    "    df.index = pd.to_datetime(df.index)\n",
    "    start_date = df.index[0]\n",
    "    end_date = df.index[-1]\n",
    "    idx = pd.date_range(pd.to_datetime(start_date), pd.to_datetime(end_date))\n",
    "    df = df.reindex(idx)\n",
    "    df.ffill(axis=0, inplace=True)\n",
    "    df = df[df.index.year >= 2009]\n",
    "    return df"
   ]
  },
  {
   "cell_type": "code",
   "execution_count": 174,
   "metadata": {},
   "outputs": [
    {
     "name": "stdout",
     "output_type": "stream",
     "text": [
      "datetime64\n",
      "datetime64\n"
     ]
    },
    {
     "data": {
      "text/html": [
       "<div>\n",
       "<style scoped>\n",
       "    .dataframe tbody tr th:only-of-type {\n",
       "        vertical-align: middle;\n",
       "    }\n",
       "\n",
       "    .dataframe tbody tr th {\n",
       "        vertical-align: top;\n",
       "    }\n",
       "\n",
       "    .dataframe thead th {\n",
       "        text-align: right;\n",
       "    }\n",
       "</style>\n",
       "<table border=\"1\" class=\"dataframe\">\n",
       "  <thead>\n",
       "    <tr style=\"text-align: right;\">\n",
       "      <th></th>\n",
       "      <th>Ticker</th>\n",
       "      <th>pe-ratio</th>\n",
       "      <th>price-sales</th>\n",
       "      <th>price-book</th>\n",
       "      <th>price-fcf</th>\n",
       "      <th>current-ratio</th>\n",
       "      <th>quick-ratio</th>\n",
       "      <th>debt-equity-ratio</th>\n",
       "      <th>roe</th>\n",
       "      <th>roa</th>\n",
       "      <th>...</th>\n",
       "      <th>gross-profit_YoY</th>\n",
       "      <th>revenue_TTM</th>\n",
       "      <th>revenue_Q</th>\n",
       "      <th>revenue_YoY</th>\n",
       "      <th>Adj Close</th>\n",
       "      <th>Yearly Change (%)</th>\n",
       "      <th>growth-rate</th>\n",
       "      <th>unemployment-rate</th>\n",
       "      <th>inflation-rate</th>\n",
       "      <th>interest-rates</th>\n",
       "    </tr>\n",
       "  </thead>\n",
       "  <tbody>\n",
       "    <tr>\n",
       "      <th>2016-12-31</th>\n",
       "      <td>VTRS</td>\n",
       "      <td>39.32</td>\n",
       "      <td>1.69</td>\n",
       "      <td>1.74</td>\n",
       "      <td>11.36</td>\n",
       "      <td>1.492</td>\n",
       "      <td>1.005</td>\n",
       "      <td>1.490</td>\n",
       "      <td>4.41</td>\n",
       "      <td>1.56</td>\n",
       "      <td>...</td>\n",
       "      <td>25.59</td>\n",
       "      <td>11.077</td>\n",
       "      <td>3.268</td>\n",
       "      <td>31.19</td>\n",
       "      <td>35.381607</td>\n",
       "      <td>10.904321</td>\n",
       "      <td>1.75</td>\n",
       "      <td>4.87</td>\n",
       "      <td>1.2616</td>\n",
       "      <td>0.55</td>\n",
       "    </tr>\n",
       "    <tr>\n",
       "      <th>2011-12-31</th>\n",
       "      <td>VRSN</td>\n",
       "      <td>58.56</td>\n",
       "      <td>7.97</td>\n",
       "      <td>0.00</td>\n",
       "      <td>34.33</td>\n",
       "      <td>2.197</td>\n",
       "      <td>NaN</td>\n",
       "      <td>-7.832</td>\n",
       "      <td>200.00</td>\n",
       "      <td>7.49</td>\n",
       "      <td>...</td>\n",
       "      <td>14.89</td>\n",
       "      <td>0.773</td>\n",
       "      <td>0.204</td>\n",
       "      <td>13.97</td>\n",
       "      <td>35.720001</td>\n",
       "      <td>8.678608</td>\n",
       "      <td>4.64</td>\n",
       "      <td>8.95</td>\n",
       "      <td>3.1568</td>\n",
       "      <td>0.04</td>\n",
       "    </tr>\n",
       "    <tr>\n",
       "      <th>2013-09-30</th>\n",
       "      <td>VTRS</td>\n",
       "      <td>23.97</td>\n",
       "      <td>2.12</td>\n",
       "      <td>4.28</td>\n",
       "      <td>24.80</td>\n",
       "      <td>1.696</td>\n",
       "      <td>1.053</td>\n",
       "      <td>2.105</td>\n",
       "      <td>19.52</td>\n",
       "      <td>4.95</td>\n",
       "      <td>...</td>\n",
       "      <td>2.02</td>\n",
       "      <td>6.824</td>\n",
       "      <td>1.767</td>\n",
       "      <td>-1.94</td>\n",
       "      <td>35.400150</td>\n",
       "      <td>19.177393</td>\n",
       "      <td>3.13</td>\n",
       "      <td>8.07</td>\n",
       "      <td>2.0693</td>\n",
       "      <td>0.06</td>\n",
       "    </tr>\n",
       "    <tr>\n",
       "      <th>2013-01-31</th>\n",
       "      <td>BF.B</td>\n",
       "      <td>21.13</td>\n",
       "      <td>4.39</td>\n",
       "      <td>8.02</td>\n",
       "      <td>19.69</td>\n",
       "      <td>2.535</td>\n",
       "      <td>1.542</td>\n",
       "      <td>0.656</td>\n",
       "      <td>29.00</td>\n",
       "      <td>15.81</td>\n",
       "      <td>...</td>\n",
       "      <td>12.42</td>\n",
       "      <td>2.793</td>\n",
       "      <td>0.747</td>\n",
       "      <td>6.41</td>\n",
       "      <td>22.045500</td>\n",
       "      <td>20.828146</td>\n",
       "      <td>0.46</td>\n",
       "      <td>8.07</td>\n",
       "      <td>2.0693</td>\n",
       "      <td>0.15</td>\n",
       "    </tr>\n",
       "    <tr>\n",
       "      <th>2020-12-31</th>\n",
       "      <td>MMM</td>\n",
       "      <td>17.12</td>\n",
       "      <td>2.90</td>\n",
       "      <td>7.16</td>\n",
       "      <td>13.64</td>\n",
       "      <td>1.885</td>\n",
       "      <td>1.352</td>\n",
       "      <td>1.391</td>\n",
       "      <td>47.38</td>\n",
       "      <td>11.84</td>\n",
       "      <td>...</td>\n",
       "      <td>10.80</td>\n",
       "      <td>32.184</td>\n",
       "      <td>8.583</td>\n",
       "      <td>5.82</td>\n",
       "      <td>157.996124</td>\n",
       "      <td>4.850570</td>\n",
       "      <td>2.56</td>\n",
       "      <td>8.05</td>\n",
       "      <td>1.2336</td>\n",
       "      <td>0.09</td>\n",
       "    </tr>\n",
       "  </tbody>\n",
       "</table>\n",
       "<p>5 rows × 46 columns</p>\n",
       "</div>"
      ],
      "text/plain": [
       "           Ticker  pe-ratio  price-sales  price-book  price-fcf   \n",
       "2016-12-31   VTRS     39.32         1.69        1.74      11.36  \\\n",
       "2011-12-31   VRSN     58.56         7.97        0.00      34.33   \n",
       "2013-09-30   VTRS     23.97         2.12        4.28      24.80   \n",
       "2013-01-31   BF.B     21.13         4.39        8.02      19.69   \n",
       "2020-12-31    MMM     17.12         2.90        7.16      13.64   \n",
       "\n",
       "            current-ratio  quick-ratio  debt-equity-ratio     roe    roa  ...   \n",
       "2016-12-31          1.492        1.005              1.490    4.41   1.56  ...  \\\n",
       "2011-12-31          2.197          NaN             -7.832  200.00   7.49  ...   \n",
       "2013-09-30          1.696        1.053              2.105   19.52   4.95  ...   \n",
       "2013-01-31          2.535        1.542              0.656   29.00  15.81  ...   \n",
       "2020-12-31          1.885        1.352              1.391   47.38  11.84  ...   \n",
       "\n",
       "            gross-profit_YoY  revenue_TTM  revenue_Q  revenue_YoY   Adj Close   \n",
       "2016-12-31             25.59       11.077      3.268        31.19   35.381607  \\\n",
       "2011-12-31             14.89        0.773      0.204        13.97   35.720001   \n",
       "2013-09-30              2.02        6.824      1.767        -1.94   35.400150   \n",
       "2013-01-31             12.42        2.793      0.747         6.41   22.045500   \n",
       "2020-12-31             10.80       32.184      8.583         5.82  157.996124   \n",
       "\n",
       "            Yearly Change (%)  growth-rate  unemployment-rate  inflation-rate   \n",
       "2016-12-31          10.904321         1.75               4.87          1.2616  \\\n",
       "2011-12-31           8.678608         4.64               8.95          3.1568   \n",
       "2013-09-30          19.177393         3.13               8.07          2.0693   \n",
       "2013-01-31          20.828146         0.46               8.07          2.0693   \n",
       "2020-12-31           4.850570         2.56               8.05          1.2336   \n",
       "\n",
       "             interest-rates  \n",
       "2016-12-31             0.55  \n",
       "2011-12-31             0.04  \n",
       "2013-09-30             0.06  \n",
       "2013-01-31             0.15  \n",
       "2020-12-31             0.09  \n",
       "\n",
       "[5 rows x 46 columns]"
      ]
     },
     "execution_count": 174,
     "metadata": {},
     "output_type": "execute_result"
    }
   ],
   "source": [
    "df_macros = fetch_macros()\n",
    "df.index = pd.to_datetime(df.index)\n",
    "df = pd.merge(df, df_macros, how='left', left_index=True, right_index=True)\n",
    "df.sample(5)"
   ]
  },
  {
   "attachments": {},
   "cell_type": "markdown",
   "metadata": {},
   "source": [
    "## <h2 style=\"text-align:center;\"> Saving the final dataframe to a file </h2>"
   ]
  },
  {
   "cell_type": "code",
   "execution_count": 175,
   "metadata": {},
   "outputs": [],
   "source": [
    "df.to_csv('data/sp500_macro_quarterly_data.csv')"
   ]
  }
 ],
 "metadata": {
  "kernelspec": {
   "display_name": ".venv",
   "language": "python",
   "name": "python3"
  },
  "language_info": {
   "codemirror_mode": {
    "name": "ipython",
    "version": 3
   },
   "file_extension": ".py",
   "mimetype": "text/x-python",
   "name": "python",
   "nbconvert_exporter": "python",
   "pygments_lexer": "ipython3",
   "version": "3.10.6"
  },
  "orig_nbformat": 4,
  "vscode": {
   "interpreter": {
    "hash": "3930e4d69477a73e446e1ebfe4cfe9971ab6ff084678da78959399ee9c63d9b6"
   }
  }
 },
 "nbformat": 4,
 "nbformat_minor": 2
}
